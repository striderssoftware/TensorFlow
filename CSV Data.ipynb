{
  "nbformat": 4,
  "nbformat_minor": 0,
  "metadata": {
    "colab": {
      "provenance": [],
      "authorship_tag": "ABX9TyMDfx11Fcem1833gsZLBGEG",
      "include_colab_link": true
    },
    "kernelspec": {
      "name": "python3",
      "display_name": "Python 3"
    },
    "language_info": {
      "name": "python"
    }
  },
  "cells": [
    {
      "cell_type": "markdown",
      "metadata": {
        "id": "view-in-github",
        "colab_type": "text"
      },
      "source": [
        "<a href=\"https://colab.research.google.com/github/striderssoftware/TensorFlow/blob/main/CSV%20Data.ipynb\" target=\"_parent\"><img src=\"https://colab.research.google.com/assets/colab-badge.svg\" alt=\"Open In Colab\"/></a>"
      ]
    },
    {
      "cell_type": "code",
      "execution_count": 25,
      "metadata": {
        "colab": {
          "base_uri": "https://localhost:8080/"
        },
        "id": "UUNDT4shPx4_",
        "outputId": "6af3702b-519c-4c07-bfda-3eea87ce496c"
      },
      "outputs": [
        {
          "output_type": "stream",
          "name": "stdout",
          "text": [
            "strider was here:START\n",
            "[[0.435 0.335 0.11  ... 0.136 0.077 0.097]\n",
            " [0.585 0.45  0.125 ... 0.354 0.207 0.225]\n",
            " [0.655 0.51  0.16  ... 0.396 0.282 0.37 ]\n",
            " ...\n",
            " [0.53  0.42  0.13  ... 0.374 0.167 0.249]\n",
            " [0.395 0.315 0.105 ... 0.118 0.091 0.119]\n",
            " [0.45  0.355 0.12  ... 0.115 0.067 0.16 ]]\n",
            "Epoch 1/10\n",
            "104/104 [==============================] - 1s 3ms/step - loss: 65.6683\n",
            "Epoch 2/10\n",
            "104/104 [==============================] - 0s 2ms/step - loss: 12.4880\n",
            "Epoch 3/10\n",
            "104/104 [==============================] - 0s 2ms/step - loss: 8.7664\n",
            "Epoch 4/10\n",
            "104/104 [==============================] - 0s 2ms/step - loss: 8.2069\n",
            "Epoch 5/10\n",
            "104/104 [==============================] - 0s 2ms/step - loss: 7.7223\n",
            "Epoch 6/10\n",
            "104/104 [==============================] - 0s 2ms/step - loss: 7.3137\n",
            "Epoch 7/10\n",
            "104/104 [==============================] - 0s 2ms/step - loss: 7.0169\n",
            "Epoch 8/10\n",
            "104/104 [==============================] - 0s 2ms/step - loss: 6.7784\n",
            "Epoch 9/10\n",
            "104/104 [==============================] - 0s 2ms/step - loss: 6.6148\n",
            "Epoch 10/10\n",
            "104/104 [==============================] - 0s 2ms/step - loss: 6.5064\n",
            "END\n"
          ]
        }
      ],
      "source": [
        "import pandas as pd\n",
        "import numpy as np\n",
        "\n",
        "\n",
        "print (\"strider was here:START\")\n",
        "\n",
        "# Make numpy values easier to read.\n",
        "np.set_printoptions(precision=3, suppress=True)\n",
        "\n",
        "import tensorflow as tf\n",
        "from tensorflow.keras import layers\n",
        "\n",
        "abalone_train = pd.read_csv(\n",
        "    \"https://storage.googleapis.com/download.tensorflow.org/data/abalone_train.csv\",\n",
        "    names=[\"Length\", \"Diameter\", \"Height\", \"Whole weight\", \"Shucked weight\",\n",
        "           \"Viscera weight\", \"Shell weight\", \"AnyKey\"])\n",
        "\n",
        "abalone_train.head()\n",
        "\n",
        "\n",
        "abalone_features = abalone_train.copy()\n",
        "abalone_labels = abalone_features.pop('AnyKey')\n",
        "\n",
        "abalone_features = np.array(abalone_features)\n",
        "print (abalone_features )\n",
        "\n",
        "abalone_model = tf.keras.Sequential([\n",
        "  layers.Dense(64),\n",
        "  layers.Dense(1)\n",
        "])\n",
        "\n",
        "abalone_model.compile(loss = tf.keras.losses.MeanSquaredError(),\n",
        "                      optimizer = tf.keras.optimizers.Adam())\n",
        "\n",
        "abalone_model.fit(abalone_features, abalone_labels, epochs=10)\n",
        "\n",
        "print (\"END\")\n"
      ]
    }
  ]
}