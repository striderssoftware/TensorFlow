{
  "nbformat": 4,
  "nbformat_minor": 0,
  "metadata": {
    "colab": {
      "provenance": [],
      "authorship_tag": "ABX9TyNxYZIirvr229ru/oCAenEP",
      "include_colab_link": true
    },
    "kernelspec": {
      "name": "python3",
      "display_name": "Python 3"
    },
    "language_info": {
      "name": "python"
    }
  },
  "cells": [
    {
      "cell_type": "markdown",
      "metadata": {
        "id": "view-in-github",
        "colab_type": "text"
      },
      "source": [
        "<a href=\"https://colab.research.google.com/github/striderssoftware/TensorFlow/blob/main/ModelShort.ipynb\" target=\"_parent\"><img src=\"https://colab.research.google.com/assets/colab-badge.svg\" alt=\"Open In Colab\"/></a>"
      ]
    },
    {
      "cell_type": "code",
      "execution_count": null,
      "metadata": {
        "id": "t4EUSS4GnPnp"
      },
      "outputs": [],
      "source": [
        "\n",
        "import tensorflow as tf\n",
        "\n",
        "print(\"Strider was here:\", tf.__version__)\n",
        "\n",
        "# An Entire New Industry of Acquisition, Labeling, and Structure of training data\n",
        "(x_train, y_train), (x_test, y_test) = tf.keras.datasets.mnist.load_data()\n",
        "x_train, x_test = x_train / 255.0, x_test / 255.0\n",
        "\n",
        "# Building Mechanism NOT an Algorithm\n",
        "model = tf.keras.models.Sequential([\n",
        "  tf.keras.layers.Flatten(input_shape=(28, 28)),   # The input, in the case the image\n",
        "  tf.keras.layers.Dense(128, activation='relu'),   # hidden\n",
        "  tf.keras.layers.Dropout(.2),                     # hidden\n",
        "  tf.keras.layers.Dense(10)                        # The output layer, the solution space\n",
        "])\n",
        "# The hidden layers are the structure that ALLOWS the\n",
        "# work to be done.  The work is done with Backpropagation, and\n",
        "# Weights while training.\n",
        "\n",
        "#  Training\n",
        "predictions = model(x_train[2:3]).numpy()\n",
        "loss_fn = tf.keras.losses.SparseCategoricalCrossentropy(from_logits=True)\n",
        "loss_fn(y_train[:1], predictions).numpy()\n",
        "\n",
        "model.compile(optimizer='adam',\n",
        "              loss=loss_fn,\n",
        "              metrics=['accuracy'])\n",
        "model.fit(x_train, y_train, epochs=1)  # Raise this\n",
        "\n",
        "# Evaluation Metrics\n",
        "evalResults = model.evaluate(x_test,y_test)\n",
        "\n",
        "# Wrap the Model in a probability model for \"results\"\n",
        "probability_model = tf.keras.Sequential([\n",
        "  model,\n",
        "  tf.keras.layers.Softmax()\n",
        "])\n",
        "\n",
        "# Query the Model\n",
        "probResult = probability_model(x_test, training=False)   # Probability of Class Membership\n",
        "predResult = probability_model.predict(x_test)           # Model Confidence of Class Membership\n",
        "\n",
        "print ('\\n\\n')\n",
        "\n",
        "# Map results into solution space\n",
        "class_names = ['One', 'Two', 'Three', 'Four', 'Five', 'Six', 'Seven', 'Eight', 'Nine','Ten']\n",
        "for i, logits in enumerate(predResult):  # probResults, predResults\n",
        "  class_idx = tf.math.argmax(logits).numpy()\n",
        "  p = tf.nn.softmax(logits)[class_idx]\n",
        "  name = class_names[class_idx]\n",
        "  print(\"Example {} prediction: {} ({:4.1f}%)\".format(i, name, 100*p))\n",
        "\n",
        "print (\"all doneeeeeee\")\n",
        "\n"
      ]
    }
  ]
}