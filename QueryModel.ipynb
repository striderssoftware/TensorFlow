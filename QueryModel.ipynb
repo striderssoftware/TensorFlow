{
  "nbformat": 4,
  "nbformat_minor": 0,
  "metadata": {
    "colab": {
      "provenance": [],
      "authorship_tag": "ABX9TyPM0e1zCpWHLZLLdcjC6DqV",
      "include_colab_link": true
    },
    "kernelspec": {
      "name": "python3",
      "display_name": "Python 3"
    },
    "language_info": {
      "name": "python"
    }
  },
  "cells": [
    {
      "cell_type": "markdown",
      "metadata": {
        "id": "view-in-github",
        "colab_type": "text"
      },
      "source": [
        "<a href=\"https://colab.research.google.com/github/striderssoftware/TensorFlow/blob/main/QueryModel.ipynb\" target=\"_parent\"><img src=\"https://colab.research.google.com/assets/colab-badge.svg\" alt=\"Open In Colab\"/></a>"
      ]
    },
    {
      "cell_type": "code",
      "execution_count": 35,
      "metadata": {
        "id": "t4EUSS4GnPnp",
        "colab": {
          "base_uri": "https://localhost:8080/"
        },
        "outputId": "bf519adc-90f3-49af-8611-f9563a1c82be"
      },
      "outputs": [
        {
          "output_type": "stream",
          "name": "stdout",
          "text": [
            "Strider was here: 2.14.0\n",
            "1875/1875 [==============================] - 9s 5ms/step - loss: 0.3018 - accuracy: 0.9123\n",
            "313/313 [==============================] - 1s 2ms/step - loss: 0.1420 - accuracy: 0.9580\n",
            "313/313 [==============================] - 1s 2ms/step\n",
            "\n",
            "\n",
            "\n",
            "tf.Tensor(\n",
            "[[7.52932783e-06 1.21758532e-07 3.50562943e-04 1.02484447e-03\n",
            "  6.09516206e-08 4.45382511e-06 1.23566890e-09 9.98559535e-01\n",
            "  4.16002558e-06 4.88072910e-05]\n",
            " [1.31822031e-04 1.35910632e-05 9.96243358e-01 3.31638963e-03\n",
            "  1.06137499e-09 1.49293337e-04 8.91272284e-05 1.32272087e-08\n",
            "  5.65118207e-05 3.65634345e-09]\n",
            " [4.29577158e-05 9.84629512e-01 2.88885948e-03 1.74740248e-03\n",
            "  2.45577161e-04 4.88858204e-04 7.95406348e-04 7.15051359e-03\n",
            "  1.75173732e-03 2.59176421e-04]\n",
            " [9.98707294e-01 2.45366067e-07 1.01212114e-04 4.74261724e-05\n",
            "  5.04077525e-06 1.27679348e-04 4.76594723e-04 5.11107210e-04\n",
            "  1.84013663e-06 2.16072094e-05]\n",
            " [1.27395324e-04 3.51307517e-06 2.80713895e-04 4.50108273e-05\n",
            "  9.79338944e-01 3.15656944e-04 1.14896928e-03 2.10255105e-03\n",
            "  8.18957575e-04 1.58182736e-02]], shape=(5, 10), dtype=float32)\n",
            "all donee\n"
          ]
        }
      ],
      "source": [
        "\n",
        "import tensorflow as tf\n",
        "\n",
        "print(\"Strider was here:\", tf.__version__)\n",
        "\n",
        "(x_train, y_train), (x_test, y_test) = tf.keras.datasets.mnist.load_data()\n",
        "x_train, x_test = x_train / 255.0, x_test / 255.0\n",
        "\n",
        "model = tf.keras.models.Sequential([\n",
        "  tf.keras.layers.Flatten(input_shape=(28, 28)),\n",
        "  tf.keras.layers.Dense(128, activation='relu'),\n",
        "  tf.keras.layers.Dropout(.2),\n",
        "  tf.keras.layers.Dense(10)\n",
        "])\n",
        "\n",
        "predictions = model(x_train[2:3]).numpy()\n",
        "\n",
        "loss_fn = tf.keras.losses.SparseCategoricalCrossentropy(from_logits=True)\n",
        "loss_fn(y_train[:1], predictions).numpy()\n",
        "\n",
        "model.compile(optimizer='adam',\n",
        "              loss=loss_fn,\n",
        "              metrics=['accuracy'])\n",
        "model.fit(x_train, y_train, epochs=1)\n",
        "\n",
        "evalResults = model.evaluate(x_test,y_test) # Evaluation Metrics\n",
        "\n",
        "probability_model = tf.keras.Sequential([\n",
        "  model,\n",
        "  tf.keras.layers.Softmax()\n",
        "])\n",
        "\n",
        "probResult = probability_model(x_test[:5])   # Probability of Class Membership\n",
        "predResult = model.predict(x_test)           # Model Confidence of Class Membership\n",
        "\n",
        "print ('\\n\\n')\n",
        "print (probResult)  #evalResults, probResults, predResults\n",
        "\n",
        "print (\"all donee\")\n",
        "\n",
        "\n"
      ]
    }
  ]
}