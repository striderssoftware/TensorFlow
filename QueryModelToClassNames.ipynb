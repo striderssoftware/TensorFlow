{
  "nbformat": 4,
  "nbformat_minor": 0,
  "metadata": {
    "colab": {
      "provenance": [],
      "authorship_tag": "ABX9TyNFF07kPjSXzd1vln2Xc6NF",
      "include_colab_link": true
    },
    "kernelspec": {
      "name": "python3",
      "display_name": "Python 3"
    },
    "language_info": {
      "name": "python"
    }
  },
  "cells": [
    {
      "cell_type": "markdown",
      "metadata": {
        "id": "view-in-github",
        "colab_type": "text"
      },
      "source": [
        "<a href=\"https://colab.research.google.com/github/striderssoftware/TensorFlow/blob/main/QueryModelToClassNames.ipynb\" target=\"_parent\"><img src=\"https://colab.research.google.com/assets/colab-badge.svg\" alt=\"Open In Colab\"/></a>"
      ]
    },
    {
      "cell_type": "code",
      "execution_count": 66,
      "metadata": {
        "id": "t4EUSS4GnPnp",
        "colab": {
          "base_uri": "https://localhost:8080/"
        },
        "outputId": "2fb8da21-b939-45f9-a469-fea51ccc8f01"
      },
      "outputs": [
        {
          "output_type": "stream",
          "name": "stdout",
          "text": [
            "Strider was here: 2.14.0\n",
            "1875/1875 [==============================] - 8s 4ms/step - loss: 0.2918 - accuracy: 0.9157\n",
            "313/313 [==============================] - 1s 2ms/step - loss: 0.1363 - accuracy: 0.9589\n",
            "313/313 [==============================] - 1s 2ms/step\n",
            "\n",
            "\n",
            "\n",
            "all doneeeeeee\n"
          ]
        }
      ],
      "source": [
        "\n",
        "import tensorflow as tf\n",
        "\n",
        "print(\"Strider was here:\", tf.__version__)\n",
        "\n",
        "(x_train, y_train), (x_test, y_test) = tf.keras.datasets.mnist.load_data()\n",
        "x_train, x_test = x_train / 255.0, x_test / 255.0\n",
        "\n",
        "model = tf.keras.models.Sequential([\n",
        "  tf.keras.layers.Flatten(input_shape=(28, 28)),\n",
        "  tf.keras.layers.Dense(128, activation='relu'),\n",
        "  tf.keras.layers.Dropout(.2),\n",
        "  tf.keras.layers.Dense(10)\n",
        "])\n",
        "\n",
        "predictions = model(x_train[2:3]).numpy()\n",
        "\n",
        "loss_fn = tf.keras.losses.SparseCategoricalCrossentropy(from_logits=True)\n",
        "loss_fn(y_train[:1], predictions).numpy()\n",
        "\n",
        "model.compile(optimizer='adam',\n",
        "              loss=loss_fn,\n",
        "              metrics=['accuracy'])\n",
        "model.fit(x_train, y_train, epochs=1)  # Raise this\n",
        "\n",
        "evalResults = model.evaluate(x_test,y_test) # Evaluation Metrics\n",
        "\n",
        "probability_model = tf.keras.Sequential([\n",
        "  model,\n",
        "  tf.keras.layers.Softmax()\n",
        "])\n",
        "\n",
        "# Query the Model\n",
        "probResult = probability_model(x_test, training=False)   # Probability of Class Membership\n",
        "predResult = probability_model.predict(x_test)           # Model Confidence of Class Membership\n",
        "\n",
        "print ('\\n\\n')\n",
        "\n",
        "class_names = ['One', 'Two', 'Three', 'Four', 'Five', 'Six', 'Seven', 'Eight', 'Nine','Ten']\n",
        "for i, logits in enumerate(predResult):  # probResults, predResults\n",
        "  class_idx = tf.math.argmax(logits).numpy()\n",
        "  p = tf.nn.softmax(logits)[class_idx]\n",
        "  name = class_names[class_idx]\n",
        "  print(\"Example {} prediction: {} ({:4.1f}%)\".format(i, name, 100*p))\n",
        "\n",
        "print (\"all doneeeeeee\")\n",
        "\n"
      ]
    }
  ]
}