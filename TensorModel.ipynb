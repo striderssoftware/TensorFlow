{
  "nbformat": 4,
  "nbformat_minor": 0,
  "metadata": {
    "colab": {
      "provenance": [],
      "authorship_tag": "ABX9TyPOwnm7VjIyfUllK4IXyVto",
      "include_colab_link": true
    },
    "kernelspec": {
      "name": "python3",
      "display_name": "Python 3"
    },
    "language_info": {
      "name": "python"
    }
  },
  "cells": [
    {
      "cell_type": "markdown",
      "metadata": {
        "id": "view-in-github",
        "colab_type": "text"
      },
      "source": [
        "<a href=\"https://colab.research.google.com/github/striderssoftware/TensorFlow/blob/main/TensorModel.ipynb\" target=\"_parent\"><img src=\"https://colab.research.google.com/assets/colab-badge.svg\" alt=\"Open In Colab\"/></a>"
      ]
    },
    {
      "cell_type": "code",
      "execution_count": 55,
      "metadata": {
        "colab": {
          "base_uri": "https://localhost:8080/"
        },
        "id": "zI4DbUwAfNTp",
        "outputId": "5b080fd4-6ed2-492b-eb2a-64e659d39586"
      },
      "outputs": [
        {
          "output_type": "stream",
          "name": "stdout",
          "text": [
            "TensorFlow version: strider was here 2.14.0\n",
            "tensorflow version: 2.14.0\n",
            "Epoch 1/5\n",
            "1875/1875 [==============================] - 7s 3ms/step - loss: 0.5267 - accuracy: 0.8137\n",
            "Epoch 2/5\n",
            "1875/1875 [==============================] - 7s 4ms/step - loss: 0.3983 - accuracy: 0.8559\n",
            "Epoch 3/5\n",
            "1875/1875 [==============================] - 6s 3ms/step - loss: 0.3647 - accuracy: 0.8682\n",
            "Epoch 4/5\n",
            "1875/1875 [==============================] - 7s 4ms/step - loss: 0.3441 - accuracy: 0.8730\n",
            "Epoch 5/5\n",
            "1875/1875 [==============================] - 6s 3ms/step - loss: 0.3295 - accuracy: 0.8799\n",
            "313/313 - 1s - loss: 0.3744 - accuracy: 0.8619 - 595ms/epoch - 2ms/step\n",
            "float32\n",
            "all donee\n"
          ]
        }
      ],
      "source": [
        "import tensorflow as tf\n",
        "print(\"TensorFlow version: strider was here\", tf.__version__)\n",
        "\n",
        "import tensorflow as tf\n",
        "import torch as tor\n",
        "from tensorflow.keras import layers\n",
        "\n",
        "print(\"tensorflow version:\", tf.__version__)\n",
        "\n",
        "#mnist = tf.keras.datasets.mnist\n",
        "(x_train, y_train), (x_test, y_test) = tf.keras.datasets.fashion_mnist.load_data()\n",
        "x_train, x_test = x_train / 255.0, x_test / 255.0\n",
        "\n",
        "model = tf.keras.models.Sequential([\n",
        "  layers.Flatten(input_shape=(28, 28)),\n",
        "  layers.Dense(128, activation='relu'),\n",
        "  layers.Dropout(.2),\n",
        "  layers.Dense(10)\n",
        "])\n",
        "\n",
        "predictions = model(x_train[2:3]).numpy()\n",
        "\n",
        "loss_fn = tf.keras.losses.SparseCategoricalCrossentropy(from_logits=True)\n",
        "loss_fn(y_train[:1], predictions).numpy()\n",
        "\n",
        "model.compile(optimizer='adam',\n",
        "              loss=loss_fn,\n",
        "              metrics=['accuracy'])\n",
        "model.fit(x_train, y_train, epochs=5)\n",
        "model.evaluate(x_test, y_test, verbose=2)\n",
        "probability_model = tf.keras.Sequential([\n",
        "  model,\n",
        "  tf.keras.layers.Softmax()\n",
        "])\n",
        "probability_model(x_test[:5])\n",
        "print (predictions.dtype)\n",
        "\n",
        "print (\"all donee\")\n"
      ]
    }
  ]
}